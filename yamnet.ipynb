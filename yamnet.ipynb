{
 "cells": [
  {
   "cell_type": "code",
   "execution_count": 260,
   "id": "e9e1b95a-881b-49a2-9a0d-671cc820ac97",
   "metadata": {},
   "outputs": [],
   "source": [
    "import librosa\n",
    "import numpy as np\n",
    "from pathlib import Path\n",
    "import tensorflow as tf\n",
    "import tensorflow_hub as hub\n",
    "from sklearn.model_selection import train_test_split\n",
    "import pickle\n",
    "import matplotlib.pyplot as plt\n",
    "from sklearn.metrics import accuracy_score, confusion_matrix"
   ]
  },
  {
   "cell_type": "markdown",
   "id": "d513cef0-f351-49bd-835e-837ae9c29ca1",
   "metadata": {},
   "source": [
    "## Training YamNet based classifier\n",
    "* ### Yamnet taken 1D array as input, processes 0.96s at one go\n",
    "* ### Output embedding size of audio is 1024 dimension\n",
    "* ### Two Dense layers added after YamNet to classify audio in 3 categories"
   ]
  },
  {
   "cell_type": "code",
   "execution_count": null,
   "id": "cf78c650-75c1-4d10-ac8c-f0e745060f25",
   "metadata": {},
   "outputs": [],
   "source": []
  },
  {
   "cell_type": "code",
   "execution_count": 7,
   "id": "03fd4a61-cbc7-475d-8484-a7852272125a",
   "metadata": {},
   "outputs": [],
   "source": [
    "basepath = Path.cwd()/'datasets'"
   ]
  },
  {
   "cell_type": "code",
   "execution_count": 91,
   "id": "e8ec3770-f06c-4b9f-92c3-6648cdb854b2",
   "metadata": {},
   "outputs": [],
   "source": [
    "def compile_filenames(basepath, category_dict):\n",
    "    \"\"\"\n",
    "    Make list of tuple (filename, category) in basepath\n",
    "    Args:\n",
    "        basepath(path): path of the dataset\n",
    "        categorydict(dict): key - category, value - class label\n",
    "    Returns:\n",
    "        list[tuple]: list of tuple (filename, classlabel)\n",
    "    \"\"\"\n",
    "    filenames = list()\n",
    "    labels = list()\n",
    "    for cat in category_dict.keys():\n",
    "        \n",
    "        path = basepath/cat\n",
    "        label = category_dict[cat]\n",
    "        for file in path.iterdir():\n",
    "            filenames.append(str(file))\n",
    "            labels.append(label)\n",
    "      \n",
    "        \n",
    "    return filenames, labels\n",
    "\n",
    "def audio_to_numpy(filename, duration = 5, sr = 16000):\n",
    "    \"\"\"\n",
    "    Sample the audio file using 16KHz for 5 second\n",
    "    Then break it in 10000 samples, i.e. total 8 frames\n",
    "    Example - Audio is 5 sec long, i.e 80000 sample.\n",
    "              Total 8 frames will be generated (last frame will be ignored) \n",
    "    \"\"\"\n",
    "    filename = filename.numpy().decode('utf-8')\n",
    "    y, _ = librosa.load(filename, sr=sr, duration = duration)\n",
    "    y = np.pad(y, pad_width=(0,duration*sr - y.shape[0]),mode='constant', constant_values = (0,0))\n",
    "    return y\n",
    "\n",
    "def one_hot(label, n=10):\n",
    "    \"\"\"\n",
    "    Convert label to one hot vector\n",
    "    \"\"\"\n",
    "    val = label.numpy()\n",
    "    val = np.full(n, fill_value=val)\n",
    "    val = tf.one_hot(val, 3)\n",
    "    return val\n",
    "\n",
    "def convert_audio(filename, label):\n",
    "    \"\"\"\n",
    "    Reads file from disk and convert to time series data.\n",
    "    Args:\n",
    "        filename(path): path of audio file\n",
    "        label(int): class label of audio file\n",
    "    Returns:\n",
    "        np.ndarray: numpy array of 1D having values (0,1)\n",
    "    Remarks:\n",
    "        The sr is 16000 and time 5 second max\n",
    "        The shape of the output is (80000,)\n",
    "        Zero padding will be done if audio is not 5 sec.\n",
    "    \"\"\"\n",
    "    X = tf.py_function(audio_to_numpy, [filename], tf.float32)\n",
    "    labels = tf.py_function(one_hot, [label], tf.float32)\n",
    "    # print(labels)\n",
    "    return X, labels\n"
   ]
  },
  {
   "cell_type": "code",
   "execution_count": 93,
   "id": "a614d6a0-9f5a-47e1-b2ee-25be8a39a432",
   "metadata": {},
   "outputs": [],
   "source": [
    "category_dict = {'normal':0, 'cry':1, 'scream':2}\n",
    "filenames, labels = compile_filenames(basepath, category_dict)"
   ]
  },
  {
   "cell_type": "code",
   "execution_count": 109,
   "id": "db519c52-4cb9-485e-83ab-bc6c8947737b",
   "metadata": {},
   "outputs": [],
   "source": [
    "train_files, test_files, train_labels, test_labels = train_test_split(\n",
    "    filenames, labels, stratify=labels, test_size=0.3, shuffle=True\n",
    ")\n",
    "val_files, test_files, val_labels, test_labels = train_test_split(\n",
    "    test_files, test_labels, stratify=test_labels, test_size=0.5, shuffle=True\n",
    ")"
   ]
  },
  {
   "cell_type": "code",
   "execution_count": 111,
   "id": "dc661fbd-d780-4e24-a83a-7da60bf4b315",
   "metadata": {},
   "outputs": [],
   "source": [
    "train_data = tf.data.Dataset.from_tensor_slices((train_files, train_labels))\n",
    "train_data = train_data.map(convert_audio)\n",
    "val_data = tf.data.Dataset.from_tensor_slices((val_files, val_labels))\n",
    "val_data = val_data.map(convert_audio)\n",
    "test_data = tf.data.Dataset.from_tensor_slices((test_files, test_labels))\n",
    "test_data = test_data.map(convert_audio)"
   ]
  },
  {
   "cell_type": "markdown",
   "id": "39035aed-441e-4b0d-82bc-b2a936f7d57a",
   "metadata": {},
   "source": [
    "## Finetune YamNet model"
   ]
  },
  {
   "cell_type": "code",
   "execution_count": null,
   "id": "8fbc52a5-f4fe-4ef1-ad7f-2045eaa4e88d",
   "metadata": {},
   "outputs": [],
   "source": []
  },
  {
   "cell_type": "code",
   "execution_count": 216,
   "id": "53ff9ff1-1610-4c5a-bf7b-2f520fe35ffd",
   "metadata": {},
   "outputs": [],
   "source": [
    "# Model Building\n",
    "class YamNetLayer(tf.keras.Layer):\n",
    "    def __init__(self):\n",
    "        super().__init__()\n",
    "        yamnet_model_handle = 'https://www.kaggle.com/models/google/yamnet/TensorFlow2/yamnet/1'\n",
    "        self.yamnet_model = hub.KerasLayer(yamnet_model_handle, trainable=False)\n",
    "    def call(self, x):\n",
    "        y = self.yamnet_model(x)[1]\n",
    "        return y\n",
    "\n",
    "audio_ip = tf.keras.Input(shape=())\n",
    "embeddings = YamNetLayer()(audio_ip)\n",
    "y = tf.keras.layers.Dense(512, activation='relu')(embeddings)\n",
    "y = tf.keras.layers.Dropout(0.2)(y)\n",
    "y = tf.keras.layers.Dense(3, activation='softmax')(y)\n",
    "model = tf.keras.Model(inputs = audio_ip, outputs = y)"
   ]
  },
  {
   "cell_type": "code",
   "execution_count": 217,
   "id": "97974fd6-6088-40db-8ffc-51d91c8a3eb8",
   "metadata": {},
   "outputs": [
    {
     "data": {
      "text/html": [
       "<pre style=\"white-space:pre;overflow-x:auto;line-height:normal;font-family:Menlo,'DejaVu Sans Mono',consolas,'Courier New',monospace\"><span style=\"font-weight: bold\">Model: \"functional_3\"</span>\n",
       "</pre>\n"
      ],
      "text/plain": [
       "\u001b[1mModel: \"functional_3\"\u001b[0m\n"
      ]
     },
     "metadata": {},
     "output_type": "display_data"
    },
    {
     "data": {
      "text/html": [
       "<pre style=\"white-space:pre;overflow-x:auto;line-height:normal;font-family:Menlo,'DejaVu Sans Mono',consolas,'Courier New',monospace\">┏━━━━━━━━━━━━━━━━━━━━━━━━━━━━━━━━━┳━━━━━━━━━━━━━━━━━━━━━━━━┳━━━━━━━━━━━━━━━┓\n",
       "┃<span style=\"font-weight: bold\"> Layer (type)                    </span>┃<span style=\"font-weight: bold\"> Output Shape           </span>┃<span style=\"font-weight: bold\">       Param # </span>┃\n",
       "┡━━━━━━━━━━━━━━━━━━━━━━━━━━━━━━━━━╇━━━━━━━━━━━━━━━━━━━━━━━━╇━━━━━━━━━━━━━━━┩\n",
       "│ input_layer_3 (<span style=\"color: #0087ff; text-decoration-color: #0087ff\">InputLayer</span>)      │ (<span style=\"color: #00d7ff; text-decoration-color: #00d7ff\">None</span>)                 │             <span style=\"color: #00af00; text-decoration-color: #00af00\">0</span> │\n",
       "├─────────────────────────────────┼────────────────────────┼───────────────┤\n",
       "│ yam_net_layer_3 (<span style=\"color: #0087ff; text-decoration-color: #0087ff\">YamNetLayer</span>)   │ (<span style=\"color: #00d7ff; text-decoration-color: #00d7ff\">None</span>, <span style=\"color: #00af00; text-decoration-color: #00af00\">1024</span>)           │             <span style=\"color: #00af00; text-decoration-color: #00af00\">0</span> │\n",
       "├─────────────────────────────────┼────────────────────────┼───────────────┤\n",
       "│ dense_6 (<span style=\"color: #0087ff; text-decoration-color: #0087ff\">Dense</span>)                 │ (<span style=\"color: #00d7ff; text-decoration-color: #00d7ff\">None</span>, <span style=\"color: #00af00; text-decoration-color: #00af00\">512</span>)            │       <span style=\"color: #00af00; text-decoration-color: #00af00\">524,800</span> │\n",
       "├─────────────────────────────────┼────────────────────────┼───────────────┤\n",
       "│ dropout_1 (<span style=\"color: #0087ff; text-decoration-color: #0087ff\">Dropout</span>)             │ (<span style=\"color: #00d7ff; text-decoration-color: #00d7ff\">None</span>, <span style=\"color: #00af00; text-decoration-color: #00af00\">512</span>)            │             <span style=\"color: #00af00; text-decoration-color: #00af00\">0</span> │\n",
       "├─────────────────────────────────┼────────────────────────┼───────────────┤\n",
       "│ dense_7 (<span style=\"color: #0087ff; text-decoration-color: #0087ff\">Dense</span>)                 │ (<span style=\"color: #00d7ff; text-decoration-color: #00d7ff\">None</span>, <span style=\"color: #00af00; text-decoration-color: #00af00\">3</span>)              │         <span style=\"color: #00af00; text-decoration-color: #00af00\">1,539</span> │\n",
       "└─────────────────────────────────┴────────────────────────┴───────────────┘\n",
       "</pre>\n"
      ],
      "text/plain": [
       "┏━━━━━━━━━━━━━━━━━━━━━━━━━━━━━━━━━┳━━━━━━━━━━━━━━━━━━━━━━━━┳━━━━━━━━━━━━━━━┓\n",
       "┃\u001b[1m \u001b[0m\u001b[1mLayer (type)                   \u001b[0m\u001b[1m \u001b[0m┃\u001b[1m \u001b[0m\u001b[1mOutput Shape          \u001b[0m\u001b[1m \u001b[0m┃\u001b[1m \u001b[0m\u001b[1m      Param #\u001b[0m\u001b[1m \u001b[0m┃\n",
       "┡━━━━━━━━━━━━━━━━━━━━━━━━━━━━━━━━━╇━━━━━━━━━━━━━━━━━━━━━━━━╇━━━━━━━━━━━━━━━┩\n",
       "│ input_layer_3 (\u001b[38;5;33mInputLayer\u001b[0m)      │ (\u001b[38;5;45mNone\u001b[0m)                 │             \u001b[38;5;34m0\u001b[0m │\n",
       "├─────────────────────────────────┼────────────────────────┼───────────────┤\n",
       "│ yam_net_layer_3 (\u001b[38;5;33mYamNetLayer\u001b[0m)   │ (\u001b[38;5;45mNone\u001b[0m, \u001b[38;5;34m1024\u001b[0m)           │             \u001b[38;5;34m0\u001b[0m │\n",
       "├─────────────────────────────────┼────────────────────────┼───────────────┤\n",
       "│ dense_6 (\u001b[38;5;33mDense\u001b[0m)                 │ (\u001b[38;5;45mNone\u001b[0m, \u001b[38;5;34m512\u001b[0m)            │       \u001b[38;5;34m524,800\u001b[0m │\n",
       "├─────────────────────────────────┼────────────────────────┼───────────────┤\n",
       "│ dropout_1 (\u001b[38;5;33mDropout\u001b[0m)             │ (\u001b[38;5;45mNone\u001b[0m, \u001b[38;5;34m512\u001b[0m)            │             \u001b[38;5;34m0\u001b[0m │\n",
       "├─────────────────────────────────┼────────────────────────┼───────────────┤\n",
       "│ dense_7 (\u001b[38;5;33mDense\u001b[0m)                 │ (\u001b[38;5;45mNone\u001b[0m, \u001b[38;5;34m3\u001b[0m)              │         \u001b[38;5;34m1,539\u001b[0m │\n",
       "└─────────────────────────────────┴────────────────────────┴───────────────┘\n"
      ]
     },
     "metadata": {},
     "output_type": "display_data"
    },
    {
     "data": {
      "text/html": [
       "<pre style=\"white-space:pre;overflow-x:auto;line-height:normal;font-family:Menlo,'DejaVu Sans Mono',consolas,'Courier New',monospace\"><span style=\"font-weight: bold\"> Total params: </span><span style=\"color: #00af00; text-decoration-color: #00af00\">526,339</span> (2.01 MB)\n",
       "</pre>\n"
      ],
      "text/plain": [
       "\u001b[1m Total params: \u001b[0m\u001b[38;5;34m526,339\u001b[0m (2.01 MB)\n"
      ]
     },
     "metadata": {},
     "output_type": "display_data"
    },
    {
     "data": {
      "text/html": [
       "<pre style=\"white-space:pre;overflow-x:auto;line-height:normal;font-family:Menlo,'DejaVu Sans Mono',consolas,'Courier New',monospace\"><span style=\"font-weight: bold\"> Trainable params: </span><span style=\"color: #00af00; text-decoration-color: #00af00\">526,339</span> (2.01 MB)\n",
       "</pre>\n"
      ],
      "text/plain": [
       "\u001b[1m Trainable params: \u001b[0m\u001b[38;5;34m526,339\u001b[0m (2.01 MB)\n"
      ]
     },
     "metadata": {},
     "output_type": "display_data"
    },
    {
     "data": {
      "text/html": [
       "<pre style=\"white-space:pre;overflow-x:auto;line-height:normal;font-family:Menlo,'DejaVu Sans Mono',consolas,'Courier New',monospace\"><span style=\"font-weight: bold\"> Non-trainable params: </span><span style=\"color: #00af00; text-decoration-color: #00af00\">0</span> (0.00 B)\n",
       "</pre>\n"
      ],
      "text/plain": [
       "\u001b[1m Non-trainable params: \u001b[0m\u001b[38;5;34m0\u001b[0m (0.00 B)\n"
      ]
     },
     "metadata": {},
     "output_type": "display_data"
    }
   ],
   "source": [
    "model.summary()"
   ]
  },
  {
   "cell_type": "code",
   "execution_count": 218,
   "id": "877d0af1-48ee-4d0d-80bb-103ddd27a16e",
   "metadata": {},
   "outputs": [],
   "source": [
    "def measure_accuracy(model, x, y):\n",
    "    \"\"\"\n",
    "    Here x is 1D vector and y is true label.\n",
    "    Model may generate (K, c) output for K frames and c classes\n",
    "    Calculate how many frames are correctly classified\n",
    "    \"\"\"\n",
    "    with tf.device(\"/cpu:0\"):\n",
    "        y_pred = model(x)\n",
    "    n = y_pred.shape[0]\n",
    "    y_pred = np.argmax(y_pred, axis=1)\n",
    "    correct = sum(y_pred == y)\n",
    "    return correct, correct/n"
   ]
  },
  {
   "cell_type": "code",
   "execution_count": 211,
   "id": "61a4e02f-5c0e-4cde-8e40-36d1299e7911",
   "metadata": {},
   "outputs": [],
   "source": [
    "model.compile(optimizer=tf.keras.optimizers.Adam(learning_rate=1e-3),\n",
    "                loss=tf.keras.losses.CategoricalCrossentropy(),\n",
    "                 metrics=['accuracy'])"
   ]
  },
  {
   "cell_type": "code",
   "execution_count": null,
   "id": "abfa16d6-803f-436d-b757-87e7761450c7",
   "metadata": {},
   "outputs": [],
   "source": []
  },
  {
   "cell_type": "code",
   "execution_count": 231,
   "id": "9fcdc1ae-40ab-4e14-95fa-db95fe8e981c",
   "metadata": {
    "scrolled": true
   },
   "outputs": [
    {
     "name": "stdout",
     "output_type": "stream",
     "text": [
      "Training -Epoch -0,step - 99| loss = 0.001518299337476492 | acuracy = 1.0\n",
      "Training -Epoch -0,step - 199| loss = 0.0035102595575153828 | acuracy = 1.0\n",
      "Training -Epoch -0,step - 299| loss = 3.788952381000854e-05 | acuracy = 1.0\n",
      "Training -Epoch -0,step - 399| loss = 0.12086929380893707 | acuracy = 1.0\n",
      "Training -Epoch -0,step - 499| loss = 0.015964999794960022 | acuracy = 1.0\n",
      "Training -Epoch -0,step - 599| loss = 0.1242590993642807 | acuracy = 1.0\n",
      "Training -Epoch -0,step - 699| loss = 2.98018790090282e-06 | acuracy = 1.0\n",
      "Training -Epoch -0,step - 799| loss = 2.6636674404144287 | acuracy = 0.2\n",
      "Training -Epoch -0,step - 899| loss = 0.0074170371517539024 | acuracy = 1.0\n",
      "Training -Epoch -0,step - 999| loss = 0.324531227350235 | acuracy = 0.9\n",
      "Training -Epoch -0,step - 1099| loss = 0.05365511029958725 | acuracy = 1.0\n",
      "Training -Epoch -0,step - 1199| loss = 0.10595744848251343 | acuracy = 1.0\n",
      "Training -Epoch -0,step - 1299| loss = 0.0001805221982067451 | acuracy = 1.0\n",
      "Training -Epoch -0,step - 1399| loss = 0.009072636254131794 | acuracy = 1.0\n",
      "Training -Epoch -0,step - 1499| loss = 0.19565944373607635 | acuracy = 1.0\n",
      "Training -Epoch -0,step - 1599| loss = 0.0034605846740305424 | acuracy = 1.0\n"
     ]
    },
    {
     "name": "stderr",
     "output_type": "stream",
     "text": [
      "2025-02-24 13:15:07.310037: I tensorflow/core/framework/local_rendezvous.cc:405] Local rendezvous is aborting with status: OUT_OF_RANGE: End of sequence\n"
     ]
    },
    {
     "name": "stdout",
     "output_type": "stream",
     "text": [
      "End of epoch 1\n",
      "\n",
      "Trainig: loss = 0.400648832321167, accuracy = 0.9288715486194478\n",
      "Validation: loss = 0.27564698457717896, accuracy = 0.9081232492997199\n",
      "Training -Epoch -1,step - 99| loss = 0.0035262037999927998 | acuracy = 1.0\n",
      "Training -Epoch -1,step - 199| loss = 0.0051347436383366585 | acuracy = 1.0\n",
      "Training -Epoch -1,step - 299| loss = 5.3070012654643506e-05 | acuracy = 1.0\n",
      "Training -Epoch -1,step - 399| loss = 0.07865722477436066 | acuracy = 1.0\n",
      "Training -Epoch -1,step - 499| loss = 0.02117781899869442 | acuracy = 1.0\n",
      "Training -Epoch -1,step - 599| loss = 0.14462420344352722 | acuracy = 1.0\n",
      "Training -Epoch -1,step - 699| loss = 1.966933950825478e-06 | acuracy = 1.0\n",
      "Training -Epoch -1,step - 799| loss = 2.5490071773529053 | acuracy = 0.3\n",
      "Training -Epoch -1,step - 899| loss = 0.005810920149087906 | acuracy = 1.0\n",
      "Training -Epoch -1,step - 999| loss = 0.2863817811012268 | acuracy = 1.0\n",
      "Training -Epoch -1,step - 1099| loss = 0.04418470710515976 | acuracy = 1.0\n",
      "Training -Epoch -1,step - 1199| loss = 0.0849679633975029 | acuracy = 1.0\n",
      "Training -Epoch -1,step - 1299| loss = 0.00045386358397081494 | acuracy = 1.0\n",
      "Training -Epoch -1,step - 1399| loss = 0.014325052499771118 | acuracy = 1.0\n",
      "Training -Epoch -1,step - 1499| loss = 0.04983559623360634 | acuracy = 1.0\n",
      "Training -Epoch -1,step - 1599| loss = 0.01174445915967226 | acuracy = 1.0\n",
      "End of epoch 2\n",
      "\n",
      "Trainig: loss = 0.2703510522842407, accuracy = 0.9388955582232893\n",
      "Validation: loss = 0.27242177724838257, accuracy = 0.9098039215686274\n",
      "Training -Epoch -2,step - 99| loss = 0.005775795318186283 | acuracy = 1.0\n",
      "Training -Epoch -2,step - 199| loss = 0.004198831040412188 | acuracy = 1.0\n",
      "Training -Epoch -2,step - 299| loss = 1.9548460841178894e-05 | acuracy = 1.0\n",
      "Training -Epoch -2,step - 399| loss = 0.04438666254281998 | acuracy = 1.0\n",
      "Training -Epoch -2,step - 499| loss = 0.027062755078077316 | acuracy = 1.0\n",
      "Training -Epoch -2,step - 599| loss = 0.1602601706981659 | acuracy = 1.0\n",
      "Training -Epoch -2,step - 699| loss = 2.741809908002324e-07 | acuracy = 1.0\n",
      "Training -Epoch -2,step - 799| loss = 2.328734874725342 | acuracy = 0.3\n",
      "Training -Epoch -2,step - 899| loss = 0.004616563208401203 | acuracy = 1.0\n",
      "Training -Epoch -2,step - 999| loss = 0.25758135318756104 | acuracy = 1.0\n",
      "Training -Epoch -2,step - 1099| loss = 0.03764936327934265 | acuracy = 1.0\n",
      "Training -Epoch -2,step - 1199| loss = 0.055738113820552826 | acuracy = 1.0\n",
      "Training -Epoch -2,step - 1299| loss = 0.00023132897331379354 | acuracy = 1.0\n",
      "Training -Epoch -2,step - 1399| loss = 0.008343767374753952 | acuracy = 1.0\n",
      "Training -Epoch -2,step - 1499| loss = 0.22698108851909637 | acuracy = 1.0\n",
      "Training -Epoch -2,step - 1599| loss = 0.1201217994093895 | acuracy = 1.0\n",
      "End of epoch 3\n",
      "\n",
      "Trainig: loss = 0.19188646972179413, accuracy = 0.9484393757503001\n",
      "Validation: loss = 0.33381885290145874, accuracy = 0.9095238095238095\n",
      "Training -Epoch -3,step - 99| loss = 0.006704340688884258 | acuracy = 1.0\n",
      "Training -Epoch -3,step - 199| loss = 0.003517715958878398 | acuracy = 1.0\n",
      "Training -Epoch -3,step - 299| loss = 7.414543688355479e-06 | acuracy = 1.0\n",
      "Training -Epoch -3,step - 399| loss = 0.043451324105262756 | acuracy = 1.0\n",
      "Training -Epoch -3,step - 499| loss = 0.025203505530953407 | acuracy = 1.0\n",
      "Training -Epoch -3,step - 599| loss = 0.08872370421886444 | acuracy = 1.0\n",
      "Training -Epoch -3,step - 699| loss = 1.192092824453539e-08 | acuracy = 1.0\n",
      "Training -Epoch -3,step - 799| loss = 2.6200432777404785 | acuracy = 0.3\n",
      "Training -Epoch -3,step - 899| loss = 0.09788195043802261 | acuracy = 1.0\n",
      "Training -Epoch -3,step - 999| loss = 0.21092331409454346 | acuracy = 1.0\n",
      "Training -Epoch -3,step - 1099| loss = 0.020088817924261093 | acuracy = 1.0\n",
      "Training -Epoch -3,step - 1199| loss = 0.04147642105817795 | acuracy = 1.0\n",
      "Training -Epoch -3,step - 1299| loss = 0.00016708829207345843 | acuracy = 1.0\n",
      "Training -Epoch -3,step - 1399| loss = 0.005744230002164841 | acuracy = 1.0\n",
      "Training -Epoch -3,step - 1499| loss = 0.2660170793533325 | acuracy = 1.0\n",
      "Training -Epoch -3,step - 1599| loss = 0.030094409361481667 | acuracy = 1.0\n",
      "End of epoch 4\n",
      "\n",
      "Trainig: loss = 0.16777350008487701, accuracy = 0.957983193277311\n",
      "Validation: loss = 0.42758384346961975, accuracy = 0.9092436974789916\n",
      "Training -Epoch -4,step - 99| loss = 0.0028253181371837854 | acuracy = 1.0\n",
      "Training -Epoch -4,step - 199| loss = 0.003261330770328641 | acuracy = 1.0\n",
      "Training -Epoch -4,step - 299| loss = 1.5020257251308067e-06 | acuracy = 1.0\n",
      "Training -Epoch -4,step - 399| loss = 0.04192078858613968 | acuracy = 1.0\n",
      "Training -Epoch -4,step - 499| loss = 0.0135478675365448 | acuracy = 1.0\n",
      "Training -Epoch -4,step - 599| loss = 0.10408834367990494 | acuracy = 1.0\n",
      "Training -Epoch -4,step - 699| loss = 0.0 | acuracy = 1.0\n",
      "Training -Epoch -4,step - 799| loss = 2.4162676334381104 | acuracy = 0.3\n",
      "Training -Epoch -4,step - 899| loss = 0.0009127630037255585 | acuracy = 1.0\n",
      "Training -Epoch -4,step - 999| loss = 0.2159595936536789 | acuracy = 1.0\n",
      "Training -Epoch -4,step - 1099| loss = 0.004223601892590523 | acuracy = 1.0\n",
      "Training -Epoch -4,step - 1199| loss = 0.0317077562212944 | acuracy = 1.0\n",
      "Training -Epoch -4,step - 1299| loss = 0.00010423924686620012 | acuracy = 1.0\n",
      "Training -Epoch -4,step - 1399| loss = 0.0028140321373939514 | acuracy = 1.0\n",
      "Training -Epoch -4,step - 1499| loss = 0.17784151434898376 | acuracy = 1.0\n",
      "Training -Epoch -4,step - 1599| loss = 0.12263761460781097 | acuracy = 1.0\n",
      "End of epoch 5\n",
      "\n",
      "Trainig: loss = 0.17162901163101196, accuracy = 0.9635054021608643\n",
      "Validation: loss = 0.30843663215637207, accuracy = 0.9098039215686274\n"
     ]
    }
   ],
   "source": [
    "# Training Loop\n",
    "EPOCHS = 5\n",
    "loss_fun = tf.keras.losses.CategoricalCrossentropy()\n",
    "optim = tf.keras.optimizers.Adam()\n",
    "tr_losses = list()\n",
    "tr_acc = list()\n",
    "val_acc = list()\n",
    "val_losses = list()\n",
    "\n",
    "for epoch in range(EPOCHS):\n",
    "    training_correct = 0\n",
    "    training_loss = list()\n",
    "    val_loss = list()\n",
    "    val_correct = 0\n",
    "    \n",
    "    for j, (X, y) in enumerate(train_data):\n",
    "        with tf.device(\"/cpu:0\"):\n",
    "            with tf.GradientTape() as tap:\n",
    "                y_pred = model(X)\n",
    "                loss = loss_fun(y, y_pred)\n",
    "\n",
    "            grad = tap.gradient(loss, model.trainable_variables)\n",
    "            optim.apply_gradients(zip(grad, model.trainable_variables))\n",
    "\n",
    "            correct, acc = measure_accuracy(model, X, np.argmax(y[0]))\n",
    "            training_correct += correct\n",
    "            training_loss.append(loss.numpy())\n",
    "\n",
    "            if (j+1) % 100 == 0:\n",
    "                print(f\"Training -Epoch -{epoch},step - {j}| loss = {loss.numpy()} | acuracy = {acc}\")\n",
    "    \n",
    "    training_acc = training_correct/ (len(train_data)*10)\n",
    "    # training_acc = training_correct/ (50*10)\n",
    "    tr_acc.append(training_acc)\n",
    "    tr_losses.append(np.mean(training_loss))\n",
    "\n",
    "\n",
    "    # validation after epoch\n",
    "    for i, (X, y) in enumerate(val_data):\n",
    "        with tf.device(\"/cpu:0\"):\n",
    "            y_pred = model(X)\n",
    "        loss = loss_fun(y, y_pred)\n",
    "        correct, acc = measure_accuracy(model, X, np.argmax(y[0]))\n",
    "        val_correct += correct\n",
    "        val_loss.append(loss.numpy())\n",
    "\n",
    "    validation_acc = val_correct/ (len(val_data)*10)\n",
    "    # validation_acc = val_correct/ (50*10)\n",
    "    val_acc.append(validation_acc)\n",
    "    val_losses.append(np.mean(val_loss))\n",
    "\n",
    "    print(f\"End of epoch {epoch+1}\\n\")\n",
    "    print(f\"Trainig: loss = {tr_losses[-1]}, accuracy = {tr_acc[-1]}\")\n",
    "    print(f\"Validation: loss = {val_losses[-1]}, accuracy = {val_acc[-1]}\")\n",
    "\n",
    "with open(\"yamnet.pkl\", \"wb\") as f:\n",
    "    pickle.dump(model, f)\n",
    "    f.close()"
   ]
  },
  {
   "cell_type": "code",
   "execution_count": 243,
   "id": "61ff230a-641b-4b70-bb06-672f1a5b1d26",
   "metadata": {},
   "outputs": [
    {
     "data": {
      "image/png": "[encoded data removed]",
      "text/plain": [
       "<Figure size 640x480 with 1 Axes>"
      ]
     },
     "metadata": {},
     "output_type": "display_data"
    }
   ],
   "source": [
    "plt.plot(range(1,6), tr_acc, label='training_accuracy')\n",
    "plt.plot(range(1,6),val_acc, label = 'validation_accuracy')\n",
    "plt.xticks(range(1,6))\n",
    "plt.legend()\n",
    "plt.show()"
   ]
  },
  {
   "cell_type": "code",
   "execution_count": null,
   "id": "ad44a7b9-d5fc-4596-9f87-c42f2560390c",
   "metadata": {},
   "outputs": [],
   "source": []
  },
  {
   "cell_type": "markdown",
   "id": "364c7b44-30b9-4bf5-ba5f-749b2be699a2",
   "metadata": {},
   "source": [
    "## Peformance on Test Data"
   ]
  },
  {
   "cell_type": "code",
   "execution_count": 253,
   "id": "f35a0d2e-ffb1-430e-8aba-fc2fc7ac2c2e",
   "metadata": {},
   "outputs": [],
   "source": [
    "test_true = list()\n",
    "test_pred = list()\n",
    "for X,y in test_data:\n",
    "    with tf.device(\"/cpu:0\"):\n",
    "        y_pred = model(X)\n",
    "    n = y_pred.shape[0]\n",
    "    true_label = np.argmax(y[0])\n",
    "    test_true = test_true + [true_label]*n\n",
    "    y_pred = np.argmax(y_pred, axis=1)\n",
    "    test_pred = test_pred + list(y_pred)"
   ]
  },
  {
   "cell_type": "code",
   "execution_count": 264,
   "id": "c3242123-9d65-4196-a73c-05d1f2176c68",
   "metadata": {},
   "outputs": [
    {
     "name": "stdout",
     "output_type": "stream",
     "text": [
      "Test accuracy is 0.8958100558659218\n"
     ]
    }
   ],
   "source": [
    "acc = accuracy_score(test_true, test_pred)\n",
    "print(f\"Test accuracy is {acc}\")"
   ]
  },
  {
   "cell_type": "code",
   "execution_count": 268,
   "id": "04875801-dcd4-4425-bd4e-bc296fcb36dc",
   "metadata": {},
   "outputs": [
    {
     "data": {
      "text/plain": [
       "array([[1479,    8,   23],\n",
       "       [  16,  696,   58],\n",
       "       [ 116,  152, 1032]])"
      ]
     },
     "execution_count": 268,
     "metadata": {},
     "output_type": "execute_result"
    }
   ],
   "source": [
    "cm  = confusion_matrix(test_true, test_pred)\n",
    "cm"
   ]
  },
  {
   "cell_type": "code",
   "execution_count": 270,
   "id": "26b6787b-6a54-44b2-8283-5e74ab5d34f6",
   "metadata": {},
   "outputs": [
    {
     "data": {
      "text/plain": [
       "array([[0.91806331, 0.00934579, 0.02066487],\n",
       "       [0.00993172, 0.81308411, 0.05211141],\n",
       "       [0.07200497, 0.17757009, 0.92722372]])"
      ]
     },
     "execution_count": 270,
     "metadata": {},
     "output_type": "execute_result"
    }
   ],
   "source": [
    "# precision matrix\n",
    "col_sum = np.sum(cm, axis=0, keepdims=True)\n",
    "prec_mat = cm/col_sum\n",
    "prec_mat"
   ]
  },
  {
   "cell_type": "code",
   "execution_count": 272,
   "id": "913679f5-99c9-4fab-9c5f-01eb9ccddf0f",
   "metadata": {},
   "outputs": [
    {
     "data": {
      "text/plain": [
       "array([[0.9794702 , 0.00529801, 0.01523179],\n",
       "       [0.02077922, 0.9038961 , 0.07532468],\n",
       "       [0.08923077, 0.11692308, 0.79384615]])"
      ]
     },
     "execution_count": 272,
     "metadata": {},
     "output_type": "execute_result"
    }
   ],
   "source": [
    "# recall matrix\n",
    "row_sum = np.sum(cm, axis=1, keepdims=True)\n",
    "rec_mat = cm/row_sum\n",
    "rec_mat"
   ]
  },
  {
   "cell_type": "code",
   "execution_count": null,
   "id": "3c32dca0-8ff5-40b0-932f-5c60f132bae9",
   "metadata": {},
   "outputs": [],
   "source": []
  },
  {
   "cell_type": "code",
   "execution_count": null,
   "id": "7fbe1ab2-cf48-45a2-89cf-2c0e83f791bc",
   "metadata": {},
   "outputs": [],
   "source": []
  },
  {
   "cell_type": "code",
   "execution_count": null,
   "id": "c27e724b-fac4-4db8-a3d1-5b1dfb35f98c",
   "metadata": {},
   "outputs": [],
   "source": []
  },
  {
   "cell_type": "code",
   "execution_count": null,
   "id": "e851560b-0e22-4ec2-8876-8409a09d781d",
   "metadata": {},
   "outputs": [],
   "source": []
  },
  {
   "cell_type": "code",
   "execution_count": null,
   "id": "a8f86be5-174a-45eb-9540-079e48c54b8c",
   "metadata": {},
   "outputs": [],
   "source": []
  }
 ],
 "metadata": {
  "kernelspec": {
   "display_name": "Python [conda env:base] *",
   "language": "python",
   "name": "conda-base-py"
  },
  "language_info": {
   "codemirror_mode": {
    "name": "ipython",
    "version": 3
   },
   "file_extension": ".py",
   "mimetype": "text/x-python",
   "name": "python",
   "nbconvert_exporter": "python",
   "pygments_lexer": "ipython3",
   "version": "3.12.7"
  }
 },
 "nbformat": 4,
 "nbformat_minor": 5
}
